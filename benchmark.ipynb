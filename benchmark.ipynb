{
 "cells": [
  {
   "cell_type": "markdown",
   "metadata": {},
   "source": [
    "# The Best Format to Save Pandas Data"
   ]
  },
  {
   "cell_type": "code",
   "execution_count": 1,
   "metadata": {},
   "outputs": [],
   "source": [
    "%matplotlib inline\n",
    "%reload_ext autoreload\n",
    "%autoreload 2"
   ]
  },
  {
   "cell_type": "code",
   "execution_count": 2,
   "metadata": {},
   "outputs": [],
   "source": [
    "from collections import defaultdict\n",
    "import os"
   ]
  },
  {
   "cell_type": "code",
   "execution_count": 3,
   "metadata": {},
   "outputs": [],
   "source": [
    "import feather\n",
    "import numpy as np\n",
    "import pandas as pd\n",
    "import seaborn as sns"
   ]
  },
  {
   "cell_type": "code",
   "execution_count": 4,
   "metadata": {},
   "outputs": [],
   "source": [
    "from utils import Timer, MemoryTracker, GC, NotebookStyle"
   ]
  },
  {
   "cell_type": "code",
   "execution_count": null,
   "metadata": {},
   "outputs": [],
   "source": [
    "style = NotebookStyle()\n",
    "style.override({'grid.color': 'lightgray'})"
   ]
  },
  {
   "cell_type": "markdown",
   "metadata": {},
   "source": [
    "## Random Dataset"
   ]
  },
  {
   "cell_type": "code",
   "execution_count": null,
   "metadata": {},
   "outputs": [],
   "source": [
    "def generate_dataset(n_rows, num_count, cat_count, max_nan=0.1, max_cat_size=100):\n",
    "    \"\"\"Randomly generate datasets with numerical and categorical features.\n",
    "    \n",
    "    The numerical features are taken from the normal distribution X ~ N(0, 1).\n",
    "    The categorical features are generated as random uuid4 strings with \n",
    "    cardinality C where 2 <= C <= max_cat_size.\n",
    "    \n",
    "    Also, a max_nan proportion of both numerical and categorical features is replaces\n",
    "    with NaN values.\n",
    "    \"\"\"\n",
    "    dataset, types = {}, {}\n",
    "    \n",
    "    def generate_categories():\n",
    "        from uuid import uuid4\n",
    "        category_size = np.random.randint(2, max_cat_size)\n",
    "        return [str(uuid4()) for _ in range(category_size)]\n",
    "    \n",
    "    for col in range(num_count):\n",
    "        name = f'n{col}'\n",
    "        values = np.random.normal(0, 1, n_rows)\n",
    "        nan_cnt = np.random.randint(1, int(max_nan*n_rows))\n",
    "        index = np.random.choice(n_rows, nan_cnt, replace=False)\n",
    "        values[index] = np.nan\n",
    "        dataset[name] = values\n",
    "        types[name] = 'float32'\n",
    "        \n",
    "    for col in range(cat_count):\n",
    "        name = f'c{col}'\n",
    "        cats = generate_categories()\n",
    "        values = np.array(np.random.choice(cats, n_rows, replace=True), dtype=object)\n",
    "        nan_cnt = np.random.randint(1, int(max_nan*n_rows))\n",
    "        index = np.random.choice(n_rows, nan_cnt, replace=False)\n",
    "        values[index] = np.nan\n",
    "        dataset[name] = values\n",
    "        types[name] = 'object'\n",
    "    \n",
    "    return pd.DataFrame(dataset), types"
   ]
  },
  {
   "cell_type": "markdown",
   "metadata": {},
   "source": [
    "## Benchmarking"
   ]
  },
  {
   "cell_type": "code",
   "execution_count": null,
   "metadata": {},
   "outputs": [],
   "source": [
    "def size_of(filename, unit=1024**2):\n",
    "    return round(os.stat(filename).st_size / unit, 2)"
   ]
  },
  {
   "cell_type": "code",
   "execution_count": null,
   "metadata": {},
   "outputs": [],
   "source": [
    "def get_save_load(df, fmt):\n",
    "    save = getattr(df, f'to_{fmt}')\n",
    "    load = feather.read_dataframe if fmt == 'feather' else getattr(pd, f'read_{fmt}')\n",
    "    return save, load"
   ]
  },
  {
   "cell_type": "code",
   "execution_count": null,
   "metadata": {},
   "outputs": [],
   "source": [
    "def benchmark(list_of_formats, data_size=1_000_000, n_num=30, n_cat=30, n_rounds=100,\n",
    "              as_category=False):\n",
    "    \"\"\"Runs dataset saving/loading benchamrk using formts from the list_of_formats.\n",
    "    \n",
    "    Each round a new random dataset is generated with data_size observations. \n",
    "    The measurements for each of the rounds are concatenated together and returned\n",
    "    as a single data frame.\n",
    "    \n",
    "    Parameters:\n",
    "        list_of_formats: A list of tuples in the format (<format_name>, [<params_dict>]). \n",
    "            The <format_name> should be one of the pandas supported formats.\n",
    "        data_size: A number of samples in the generated dataset.\n",
    "        n_num: A number of numerical columns in the generated dataset.\n",
    "        n_cat: A number of categorical columns in the generated dataset.\n",
    "        n_rounds: A number of randomly generated datasets to test the formats.\n",
    "        as_category: If True, then categorical columns will be converted into \n",
    "            pandas.Category type before saving.\n",
    "            \n",
    "    \"\"\"\n",
    "    runs = []\n",
    "    \n",
    "    for i in range(n_rounds):\n",
    "        print(f'Benchmarking round #{i + 1:d}')\n",
    "        print('\\tgenerating dataset...')\n",
    "        dataset, _ = generate_dataset(data_size, n_num, n_cat)\n",
    "        \n",
    "        if as_category:\n",
    "            print('\\tconverting categorical columns into pandas.Category')\n",
    "            cat_cols = dataset.select_dtypes(include=object).columns\n",
    "            dataset[cat_cols] = dataset[cat_cols].fillna('none').astype('category')\n",
    "        \n",
    "        benchmark = []\n",
    "        \n",
    "        for case in list_of_formats:\n",
    "            fmt, params = case if len(case) == 2 else (case[0], {})\n",
    "            \n",
    "            with GC():\n",
    "                print('\\ttesting format:', fmt)\n",
    "                filename = f'random.{fmt}'\n",
    "                save, load = get_save_load(dataset, fmt)\n",
    "                results = defaultdict(int)\n",
    "                results['format'] = fmt\n",
    "                results['filename'] = filename\n",
    "                \n",
    "                with MemoryTracker() as tracker:\n",
    "                    with Timer() as timer:\n",
    "                        save(filename, **params)\n",
    "                results['size_mb'] = size_of(filename)\n",
    "                results['save_ram_delta_mb'] = tracker.memory / (1024 ** 2)\n",
    "                results['save_time'] = float(timer)\n",
    "                \n",
    "                with MemoryTracker() as tracker:\n",
    "                    with Timer() as timer:\n",
    "                        _ = load(filename)\n",
    "                results['load_ram_delta_mb'] = tracker.memory / (1024 ** 2)\n",
    "                results['load_time'] = float(timer)\n",
    "                \n",
    "                benchmark.append(results)\n",
    "                \n",
    "            run = pd.DataFrame(benchmark)\n",
    "            run['run_no'] = i\n",
    "            runs.append(run)\n",
    "            \n",
    "    benchmark = pd.concat(runs, axis=0)\n",
    "    benchmark.reset_index(inplace=True, drop=True)\n",
    "    return benchmark"
   ]
  },
  {
   "cell_type": "code",
   "execution_count": null,
   "metadata": {},
   "outputs": [],
   "source": [
    "formats = [\n",
    "    ('csv', {'index': None}),\n",
    "    ('hdf', {'key': 'data', 'format': 'table'}),\n",
    "    ('pickle',),\n",
    "    ('msgpack',),\n",
    "    ('feather',),\n",
    "    ('parquet', {'engine': 'pyarrow'})\n",
    "]"
   ]
  },
  {
   "cell_type": "markdown",
   "metadata": {},
   "source": [
    "### Categoricals As Strings"
   ]
  },
  {
   "cell_type": "code",
   "execution_count": null,
   "metadata": {},
   "outputs": [
    {
     "name": "stdout",
     "output_type": "stream",
     "text": [
      "Benchmarking round #1\n",
      "\tgenerating dataset...\n",
      "\ttesting format: csv\n",
      "\ttesting format: hdf\n"
     ]
    }
   ],
   "source": [
    "results = benchmark(formats)"
   ]
  },
  {
   "cell_type": "code",
   "execution_count": null,
   "metadata": {},
   "outputs": [],
   "source": [
    "results.to_feather('one_million_cats_str.feather')"
   ]
  },
  {
   "cell_type": "code",
   "execution_count": null,
   "metadata": {},
   "outputs": [],
   "source": [
    "results  = feather.read_dataframe('one_million_cats_str.feather')"
   ]
  },
  {
   "cell_type": "code",
   "execution_count": null,
   "metadata": {},
   "outputs": [],
   "source": [
    "avg = results.groupby('format').mean().reset_index().drop(columns=['run_no'])\n",
    "avg"
   ]
  },
  {
   "cell_type": "code",
   "execution_count": null,
   "metadata": {},
   "outputs": [],
   "source": [
    "io_speed = avg[['format', 'load_time', 'save_time']].melt(id_vars='format')\n",
    "ax = sns.barplot(x='format', y='value', hue='variable', data=io_speed)\n",
    "_ = ax.set_xlabel('File Format')\n",
    "_ = ax.set_ylabel('Seconds')\n",
    "_ = ax.set_title('Time to Save/Load a Data Frame\\n(categories as strings)')\n",
    "ax.grid(True)"
   ]
  },
  {
   "cell_type": "code",
   "execution_count": null,
   "metadata": {},
   "outputs": [],
   "source": [
    "mem_size = avg[['format', 'save_ram_delta_mb', 'load_ram_delta_mb']].melt(id_vars='format')\n",
    "ax = sns.barplot(x='format', y='value', hue='variable', data=mem_size)\n",
    "_ = ax.set_xlabel('File Format')\n",
    "_ = ax.set_ylabel('Memory, Mb')\n",
    "ax.set_title('Memory Consumption Growth When Saving/Loading\\n(categories as strings)')\n",
    "ax.grid(True)"
   ]
  },
  {
   "cell_type": "code",
   "execution_count": null,
   "metadata": {},
   "outputs": [],
   "source": [
    "ax = sns.barplot(x='format', y='size_mb', data=avg)\n",
    "_ = ax.set_xlabel('Memory, Mb')\n",
    "_ = ax.set_ylabel('File Format')\n",
    "_ = ax.set_title('Serialized File Size\\n(categories as strings)')"
   ]
  },
  {
   "cell_type": "markdown",
   "metadata": {},
   "source": [
    "### Categoricals As Dedicated Category Type"
   ]
  },
  {
   "cell_type": "code",
   "execution_count": null,
   "metadata": {},
   "outputs": [],
   "source": [
    "results = benchmark(formats, as_category=True)"
   ]
  },
  {
   "cell_type": "code",
   "execution_count": null,
   "metadata": {},
   "outputs": [],
   "source": [
    "results.to_feather('one_million_cats_category.feather')"
   ]
  },
  {
   "cell_type": "code",
   "execution_count": null,
   "metadata": {},
   "outputs": [],
   "source": [
    "results  = feather.read_dataframe('one_million_cats_category.feather')"
   ]
  },
  {
   "cell_type": "code",
   "execution_count": null,
   "metadata": {},
   "outputs": [],
   "source": [
    "avg = results.groupby('format').mean().reset_index().drop(columns=['run_no'])\n",
    "avg"
   ]
  },
  {
   "cell_type": "code",
   "execution_count": null,
   "metadata": {},
   "outputs": [],
   "source": [
    "io_speed = avg[['format', 'load_time', 'save_time']].melt(id_vars='format')\n",
    "ax = sns.barplot(x='format', y='value', hue='variable', data=io_speed)\n",
    "_ = ax.set_xlabel('File Format')\n",
    "_ = ax.set_ylabel('Seconds')\n",
    "_ = ax.set_title('Time to Save/Load a Data Frame\\n(categories as pd.Categorical)')\n",
    "ax.grid(True)"
   ]
  },
  {
   "cell_type": "code",
   "execution_count": null,
   "metadata": {},
   "outputs": [],
   "source": [
    "no_csv = io_speed[io_speed.format != 'csv']"
   ]
  },
  {
   "cell_type": "code",
   "execution_count": null,
   "metadata": {},
   "outputs": [],
   "source": [
    "ax = sns.barplot(x='format', y='value', hue='variable', data=no_csv)\n",
    "_ = ax.set_xlabel('File Format')\n",
    "_ = ax.set_ylabel('Seconds')\n",
    "_ = ax.set_title('Time to Save/Load a Data Frame\\n(categories as pd.Categorical)')\n",
    "ax.grid(True)"
   ]
  },
  {
   "cell_type": "code",
   "execution_count": null,
   "metadata": {},
   "outputs": [],
   "source": [
    "mem_size = avg[['format', 'save_ram_delta_mb', 'load_ram_delta_mb']].melt(id_vars='format')\n",
    "ax = sns.barplot(x='format', y='value', hue='variable', data=mem_size)\n",
    "_ = ax.set_xlabel('File Format')\n",
    "_ = ax.set_ylabel('Memory, Mb')\n",
    "ax.set_title('Memory Consumption Growth When Saving/Loading\\n(categories as pd.Categorical)')\n",
    "ax.grid(True)"
   ]
  },
  {
   "cell_type": "code",
   "execution_count": null,
   "metadata": {},
   "outputs": [],
   "source": [
    "ax = sns.barplot(x='format', y='size_mb', data=avg)\n",
    "_ = ax.set_xlabel('Memory, Mb')\n",
    "_ = ax.set_ylabel('File Format')\n",
    "_ = ax.set_title('Serialized File Size\\n(categories as pd.Categorical)')"
   ]
  },
  {
   "cell_type": "code",
   "execution_count": null,
   "metadata": {},
   "outputs": [],
   "source": []
  }
 ],
 "metadata": {
  "kernelspec": {
   "display_name": "Python 3",
   "language": "python",
   "name": "python3"
  },
  "language_info": {
   "codemirror_mode": {
    "name": "ipython",
    "version": 3
   },
   "file_extension": ".py",
   "mimetype": "text/x-python",
   "name": "python",
   "nbconvert_exporter": "python",
   "pygments_lexer": "ipython3",
   "version": "3.7.1"
  },
  "toc": {
   "base_numbering": 1,
   "nav_menu": {},
   "number_sections": true,
   "sideBar": true,
   "skip_h1_title": false,
   "title_cell": "Table of Contents",
   "title_sidebar": "Contents",
   "toc_cell": false,
   "toc_position": {},
   "toc_section_display": true,
   "toc_window_display": false
  }
 },
 "nbformat": 4,
 "nbformat_minor": 2
}
